{
 "cells": [
  {
   "cell_type": "code",
   "execution_count": 11,
   "id": "a4fc5a5f",
   "metadata": {
    "id": "a4fc5a5f"
   },
   "outputs": [],
   "source": [
    "from flask import Flask"
   ]
  },
  {
   "cell_type": "code",
   "execution_count": 12,
   "id": "1d6df45c",
   "metadata": {
    "id": "1d6df45c"
   },
   "outputs": [],
   "source": [
    "import joblib"
   ]
  },
  {
   "cell_type": "code",
   "execution_count": 13,
   "id": "c8c4cdb6",
   "metadata": {
    "id": "c8c4cdb6"
   },
   "outputs": [],
   "source": [
    "app = Flask(__name__)"
   ]
  },
  {
   "cell_type": "code",
   "execution_count": 14,
   "id": "43d6f243",
   "metadata": {
    "id": "43d6f243"
   },
   "outputs": [],
   "source": [
    "from flask import request, render_template\n",
    "\n",
    "@app.route(\"/\",methods=[\"GET\",\"POST\"])\n",
    "def index():\n",
    "    if request.method == \"POST\":\n",
    "        Year = request.form.get(\"Year\")\n",
    "        floor_area_sqm = request.form.get(\"floor_area_sqm\")\n",
    "        lease_commence_date = request.form.get(\"lease_commence_date\")\n",
    "        Remaining_lease_updated = request.form.get(\"Remaining_lease_updated\")\n",
    "        \n",
    "        model1 = joblib.load(\"randomforest.joblib\")\n",
    "        pred = model1.predict([[Year,floor_area_sqm,lease_commence_date,Remaining_lease_updated]])\n",
    "        s = f\"\"\" Your requested property is: \n",
    "            Year: {Year}\n",
    "            floor_area_sqm: {floor_area_sqm}\n",
    "            Floor Area (sqm): {floor_area}\n",
    "            lease_commence_date: {lease_commence_date} \n",
    "            The property is valued at {str(pred[0])} \"\"\"\n",
    "        \n",
    "        return(render_template(\"index.html\",results=\"s\"))\n",
    "    else:\n",
    "        return(render_template(\"index.html\",results=\"Loading...\"))"
   ]
  },
  {
   "cell_type": "code",
   "execution_count": 15,
   "id": "7820602d",
   "metadata": {
    "id": "7820602d"
   },
   "outputs": [],
   "source": [
    "if __name__ == \"main\":\n",
    "    app.run()"
   ]
  },
  {
   "cell_type": "code",
   "execution_count": null,
   "id": "d92baced",
   "metadata": {},
   "outputs": [],
   "source": []
  }
 ],
 "metadata": {
  "colab": {
   "provenance": []
  },
  "kernelspec": {
   "display_name": "Python 3 (ipykernel)",
   "language": "python",
   "name": "python3"
  },
  "language_info": {
   "codemirror_mode": {
    "name": "ipython",
    "version": 3
   },
   "file_extension": ".py",
   "mimetype": "text/x-python",
   "name": "python",
   "nbconvert_exporter": "python",
   "pygments_lexer": "ipython3",
   "version": "3.9.7"
  }
 },
 "nbformat": 4,
 "nbformat_minor": 5
}
